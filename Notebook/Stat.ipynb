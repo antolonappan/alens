{
 "cells": [
  {
   "cell_type": "code",
   "execution_count": 1,
   "id": "a8e2c020-bfc8-4b42-ab05-679cf6cdfe7b",
   "metadata": {},
   "outputs": [],
   "source": [
    "import matplotlib.pyplot as plt\n",
    "import sys\n",
    "sys.path.append('../')"
   ]
  },
  {
   "cell_type": "code",
   "execution_count": 2,
   "id": "2bb69fc1-ec4a-4449-82c9-928ba3767177",
   "metadata": {},
   "outputs": [
    {
     "name": "stderr",
     "output_type": "stream",
     "text": [
      "../library.py:56: RuntimeWarning: invalid value encountered in true_divide\n",
      "  cl = Dl/dl\n"
     ]
    }
   ],
   "source": [
    "import Stat"
   ]
  },
  {
   "cell_type": "code",
   "execution_count": 17,
   "id": "81341692-b4a4-48b2-aefc-6f650edb7738",
   "metadata": {},
   "outputs": [],
   "source": [
    "spect = Stat.Diff.get_stat"
   ]
  },
  {
   "cell_type": "code",
   "execution_count": null,
   "id": "2f602ac0-b143-4019-9b92-5fae4548abfb",
   "metadata": {},
   "outputs": [],
   "source": []
  }
 ],
 "metadata": {
  "kernelspec": {
   "display_name": "PC2python",
   "language": "python",
   "name": "pc2"
  },
  "language_info": {
   "codemirror_mode": {
    "name": "ipython",
    "version": 3
   },
   "file_extension": ".py",
   "mimetype": "text/x-python",
   "name": "python",
   "nbconvert_exporter": "python",
   "pygments_lexer": "ipython3",
   "version": "3.7.11"
  }
 },
 "nbformat": 4,
 "nbformat_minor": 5
}
